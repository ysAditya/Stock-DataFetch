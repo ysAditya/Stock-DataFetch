{
  "cells": [
    {
      "cell_type": "markdown",
      "metadata": {
        "id": "LZ4xivtsxd1C"
      },
      "source": [
        "### Fetching the data for all the stocks of Auto Sector"
      ]
    },
    {
      "cell_type": "code",
      "source": [
        "!pip install yahoofinancials"
      ],
      "metadata": {
        "colab": {
          "base_uri": "https://localhost:8080/"
        },
        "id": "0AtwYi3tqLD-",
        "outputId": "b3fd19ce-1b6b-4234-f79f-7fff3881d8c7"
      },
      "execution_count": 1,
      "outputs": [
        {
          "output_type": "stream",
          "name": "stdout",
          "text": [
            "Looking in indexes: https://pypi.org/simple, https://us-python.pkg.dev/colab-wheels/public/simple/\n",
            "Collecting yahoofinancials\n",
            "  Downloading yahoofinancials-1.14.tar.gz (41 kB)\n",
            "\u001b[2K     \u001b[90m━━━━━━━━━━━━━━━━━━━━━━━━━━━━━━━━━━━━━━━━\u001b[0m \u001b[32m41.5/41.5 kB\u001b[0m \u001b[31m1.9 MB/s\u001b[0m eta \u001b[36m0:00:00\u001b[0m\n",
            "\u001b[?25h  Preparing metadata (setup.py) ... \u001b[?25l\u001b[?25hdone\n",
            "Requirement already satisfied: pytz in /usr/local/lib/python3.10/dist-packages (from yahoofinancials) (2022.7.1)\n",
            "Requirement already satisfied: requests>=2.26 in /usr/local/lib/python3.10/dist-packages (from yahoofinancials) (2.27.1)\n",
            "Requirement already satisfied: certifi>=2017.4.17 in /usr/local/lib/python3.10/dist-packages (from requests>=2.26->yahoofinancials) (2022.12.7)\n",
            "Requirement already satisfied: urllib3<1.27,>=1.21.1 in /usr/local/lib/python3.10/dist-packages (from requests>=2.26->yahoofinancials) (1.26.15)\n",
            "Requirement already satisfied: idna<4,>=2.5 in /usr/local/lib/python3.10/dist-packages (from requests>=2.26->yahoofinancials) (3.4)\n",
            "Requirement already satisfied: charset-normalizer~=2.0.0 in /usr/local/lib/python3.10/dist-packages (from requests>=2.26->yahoofinancials) (2.0.12)\n",
            "Building wheels for collected packages: yahoofinancials\n",
            "  Building wheel for yahoofinancials (setup.py) ... \u001b[?25l\u001b[?25hdone\n",
            "  Created wheel for yahoofinancials: filename=yahoofinancials-1.14-py3-none-any.whl size=28643 sha256=0c9583288aaf9d4033c5ca159875114ce09cacb622c60872eecccaf516d1983b\n",
            "  Stored in directory: /root/.cache/pip/wheels/32/a3/b6/b5b33187f2d42f095fecc236b957b46173fa09e78a106e309f\n",
            "Successfully built yahoofinancials\n",
            "Installing collected packages: yahoofinancials\n",
            "Successfully installed yahoofinancials-1.14\n"
          ]
        }
      ]
    },
    {
      "cell_type": "code",
      "execution_count": 2,
      "metadata": {
        "id": "o7i6tHmUxd10"
      },
      "outputs": [],
      "source": [
        "# Load libraries\n",
        "import pandas as pd\n",
        "import pandas_datareader as dr"
      ]
    },
    {
      "cell_type": "code",
      "execution_count": 3,
      "metadata": {
        "id": "VWUGpiSNxd14",
        "outputId": "64644ec0-4c79-40e1-b8b3-8920df7905fd",
        "colab": {
          "base_uri": "https://localhost:8080/"
        }
      },
      "outputs": [
        {
          "output_type": "execute_result",
          "data": {
            "text/plain": [
              "array(['M&M.NS', 'MARUTI.NS', 'TATAMOTORS.NS', 'EICHERMOT.NS',\n",
              "       'BAJAJ-AUTO.NS', 'HEROMOTOCO.NS', 'TIINDIA.NS', 'TVSMOTOR.NS',\n",
              "       'ASHOKLEY.NS', 'BHARATFORG.NS'], dtype='<U13')"
            ]
          },
          "metadata": {},
          "execution_count": 3
        }
      ],
      "source": [
        "import numpy as np\n",
        "tickers = np.array(['M&M.NS','MARUTI.NS','TATAMOTORS.NS','EICHERMOT.NS',\n",
        "                    'BAJAJ-AUTO.NS','HEROMOTOCO.NS','TIINDIA.NS',\n",
        "                    'TVSMOTOR.NS', 'ASHOKLEY.NS', 'BHARATFORG.NS'])\n",
        "tickers"
      ]
    },
    {
      "cell_type": "code",
      "execution_count": 4,
      "metadata": {
        "id": "iCdEUUt8xd2B"
      },
      "outputs": [],
      "source": [
        "from yahoofinancials import YahooFinancials"
      ]
    },
    {
      "cell_type": "code",
      "execution_count": 5,
      "metadata": {
        "id": "_Pz7rpbyxd2B"
      },
      "outputs": [],
      "source": [
        "yahoo_financials = YahooFinancials(tickers)"
      ]
    },
    {
      "cell_type": "code",
      "execution_count": 6,
      "metadata": {
        "id": "a1H7R8Omxd2C"
      },
      "outputs": [],
      "source": [
        "data = yahoo_financials.get_historical_price_data(start_date='2017-01-01', \n",
        "                                                  end_date='2022-12-01', \n",
        "                                                  time_interval='daily')"
      ]
    },
    {
      "cell_type": "code",
      "execution_count": 7,
      "metadata": {
        "id": "TM5J7zU2xd2C"
      },
      "outputs": [],
      "source": [
        "prices_df = pd.DataFrame({\n",
        "    a: {x['formatted_date']: x['close'] for x in data[a]['prices']} for a in tickers})"
      ]
    },
    {
      "cell_type": "code",
      "execution_count": 8,
      "metadata": {
        "id": "qhdjjLA9xd2D",
        "colab": {
          "base_uri": "https://localhost:8080/",
          "height": 374
        },
        "outputId": "f437f447-a3e8-4be1-f3ba-9759f81b640e"
      },
      "outputs": [
        {
          "output_type": "execute_result",
          "data": {
            "text/plain": [
              "                M&M.NS    MARUTI.NS  TATAMOTORS.NS  EICHERMOT.NS  \\\n",
              "2017-01-02  614.900024  5466.000000     487.049988   2252.395020   \n",
              "2017-01-03  611.275024  5508.399902     481.100006   2250.070068   \n",
              "2017-01-04  610.974976  5502.149902     486.649994   2219.649902   \n",
              "2017-01-05  613.674988  5634.950195     502.149994   2232.435059   \n",
              "2017-01-06  610.224976  5615.549805     497.750000   2271.774902   \n",
              "\n",
              "            BAJAJ-AUTO.NS  HEROMOTOCO.NS  TIINDIA.NS  TVSMOTOR.NS  \\\n",
              "2017-01-02    2598.500000    3030.550049         NaN   367.649994   \n",
              "2017-01-03    2619.199951    2986.550049         NaN   377.399994   \n",
              "2017-01-04    2684.100098    3004.899902         NaN   375.250000   \n",
              "2017-01-05    2723.350098    3071.750000         NaN   384.799988   \n",
              "2017-01-06    2707.350098    3067.550049         NaN   387.100006   \n",
              "\n",
              "            ASHOKLEY.NS  BHARATFORG.NS  \n",
              "2017-01-02    81.000000     462.250000  \n",
              "2017-01-03    81.050003     461.049988  \n",
              "2017-01-04    83.849998     456.875000  \n",
              "2017-01-05    83.949997     461.174988  \n",
              "2017-01-06    85.300003     456.049988  "
            ],
            "text/html": [
              "\n",
              "  <div id=\"df-818e8626-90a1-432f-b094-122b9f826e83\">\n",
              "    <div class=\"colab-df-container\">\n",
              "      <div>\n",
              "<style scoped>\n",
              "    .dataframe tbody tr th:only-of-type {\n",
              "        vertical-align: middle;\n",
              "    }\n",
              "\n",
              "    .dataframe tbody tr th {\n",
              "        vertical-align: top;\n",
              "    }\n",
              "\n",
              "    .dataframe thead th {\n",
              "        text-align: right;\n",
              "    }\n",
              "</style>\n",
              "<table border=\"1\" class=\"dataframe\">\n",
              "  <thead>\n",
              "    <tr style=\"text-align: right;\">\n",
              "      <th></th>\n",
              "      <th>M&amp;M.NS</th>\n",
              "      <th>MARUTI.NS</th>\n",
              "      <th>TATAMOTORS.NS</th>\n",
              "      <th>EICHERMOT.NS</th>\n",
              "      <th>BAJAJ-AUTO.NS</th>\n",
              "      <th>HEROMOTOCO.NS</th>\n",
              "      <th>TIINDIA.NS</th>\n",
              "      <th>TVSMOTOR.NS</th>\n",
              "      <th>ASHOKLEY.NS</th>\n",
              "      <th>BHARATFORG.NS</th>\n",
              "    </tr>\n",
              "  </thead>\n",
              "  <tbody>\n",
              "    <tr>\n",
              "      <th>2017-01-02</th>\n",
              "      <td>614.900024</td>\n",
              "      <td>5466.000000</td>\n",
              "      <td>487.049988</td>\n",
              "      <td>2252.395020</td>\n",
              "      <td>2598.500000</td>\n",
              "      <td>3030.550049</td>\n",
              "      <td>NaN</td>\n",
              "      <td>367.649994</td>\n",
              "      <td>81.000000</td>\n",
              "      <td>462.250000</td>\n",
              "    </tr>\n",
              "    <tr>\n",
              "      <th>2017-01-03</th>\n",
              "      <td>611.275024</td>\n",
              "      <td>5508.399902</td>\n",
              "      <td>481.100006</td>\n",
              "      <td>2250.070068</td>\n",
              "      <td>2619.199951</td>\n",
              "      <td>2986.550049</td>\n",
              "      <td>NaN</td>\n",
              "      <td>377.399994</td>\n",
              "      <td>81.050003</td>\n",
              "      <td>461.049988</td>\n",
              "    </tr>\n",
              "    <tr>\n",
              "      <th>2017-01-04</th>\n",
              "      <td>610.974976</td>\n",
              "      <td>5502.149902</td>\n",
              "      <td>486.649994</td>\n",
              "      <td>2219.649902</td>\n",
              "      <td>2684.100098</td>\n",
              "      <td>3004.899902</td>\n",
              "      <td>NaN</td>\n",
              "      <td>375.250000</td>\n",
              "      <td>83.849998</td>\n",
              "      <td>456.875000</td>\n",
              "    </tr>\n",
              "    <tr>\n",
              "      <th>2017-01-05</th>\n",
              "      <td>613.674988</td>\n",
              "      <td>5634.950195</td>\n",
              "      <td>502.149994</td>\n",
              "      <td>2232.435059</td>\n",
              "      <td>2723.350098</td>\n",
              "      <td>3071.750000</td>\n",
              "      <td>NaN</td>\n",
              "      <td>384.799988</td>\n",
              "      <td>83.949997</td>\n",
              "      <td>461.174988</td>\n",
              "    </tr>\n",
              "    <tr>\n",
              "      <th>2017-01-06</th>\n",
              "      <td>610.224976</td>\n",
              "      <td>5615.549805</td>\n",
              "      <td>497.750000</td>\n",
              "      <td>2271.774902</td>\n",
              "      <td>2707.350098</td>\n",
              "      <td>3067.550049</td>\n",
              "      <td>NaN</td>\n",
              "      <td>387.100006</td>\n",
              "      <td>85.300003</td>\n",
              "      <td>456.049988</td>\n",
              "    </tr>\n",
              "  </tbody>\n",
              "</table>\n",
              "</div>\n",
              "      <button class=\"colab-df-convert\" onclick=\"convertToInteractive('df-818e8626-90a1-432f-b094-122b9f826e83')\"\n",
              "              title=\"Convert this dataframe to an interactive table.\"\n",
              "              style=\"display:none;\">\n",
              "        \n",
              "  <svg xmlns=\"http://www.w3.org/2000/svg\" height=\"24px\"viewBox=\"0 0 24 24\"\n",
              "       width=\"24px\">\n",
              "    <path d=\"M0 0h24v24H0V0z\" fill=\"none\"/>\n",
              "    <path d=\"M18.56 5.44l.94 2.06.94-2.06 2.06-.94-2.06-.94-.94-2.06-.94 2.06-2.06.94zm-11 1L8.5 8.5l.94-2.06 2.06-.94-2.06-.94L8.5 2.5l-.94 2.06-2.06.94zm10 10l.94 2.06.94-2.06 2.06-.94-2.06-.94-.94-2.06-.94 2.06-2.06.94z\"/><path d=\"M17.41 7.96l-1.37-1.37c-.4-.4-.92-.59-1.43-.59-.52 0-1.04.2-1.43.59L10.3 9.45l-7.72 7.72c-.78.78-.78 2.05 0 2.83L4 21.41c.39.39.9.59 1.41.59.51 0 1.02-.2 1.41-.59l7.78-7.78 2.81-2.81c.8-.78.8-2.07 0-2.86zM5.41 20L4 18.59l7.72-7.72 1.47 1.35L5.41 20z\"/>\n",
              "  </svg>\n",
              "      </button>\n",
              "      \n",
              "  <style>\n",
              "    .colab-df-container {\n",
              "      display:flex;\n",
              "      flex-wrap:wrap;\n",
              "      gap: 12px;\n",
              "    }\n",
              "\n",
              "    .colab-df-convert {\n",
              "      background-color: #E8F0FE;\n",
              "      border: none;\n",
              "      border-radius: 50%;\n",
              "      cursor: pointer;\n",
              "      display: none;\n",
              "      fill: #1967D2;\n",
              "      height: 32px;\n",
              "      padding: 0 0 0 0;\n",
              "      width: 32px;\n",
              "    }\n",
              "\n",
              "    .colab-df-convert:hover {\n",
              "      background-color: #E2EBFA;\n",
              "      box-shadow: 0px 1px 2px rgba(60, 64, 67, 0.3), 0px 1px 3px 1px rgba(60, 64, 67, 0.15);\n",
              "      fill: #174EA6;\n",
              "    }\n",
              "\n",
              "    [theme=dark] .colab-df-convert {\n",
              "      background-color: #3B4455;\n",
              "      fill: #D2E3FC;\n",
              "    }\n",
              "\n",
              "    [theme=dark] .colab-df-convert:hover {\n",
              "      background-color: #434B5C;\n",
              "      box-shadow: 0px 1px 3px 1px rgba(0, 0, 0, 0.15);\n",
              "      filter: drop-shadow(0px 1px 2px rgba(0, 0, 0, 0.3));\n",
              "      fill: #FFFFFF;\n",
              "    }\n",
              "  </style>\n",
              "\n",
              "      <script>\n",
              "        const buttonEl =\n",
              "          document.querySelector('#df-818e8626-90a1-432f-b094-122b9f826e83 button.colab-df-convert');\n",
              "        buttonEl.style.display =\n",
              "          google.colab.kernel.accessAllowed ? 'block' : 'none';\n",
              "\n",
              "        async function convertToInteractive(key) {\n",
              "          const element = document.querySelector('#df-818e8626-90a1-432f-b094-122b9f826e83');\n",
              "          const dataTable =\n",
              "            await google.colab.kernel.invokeFunction('convertToInteractive',\n",
              "                                                     [key], {});\n",
              "          if (!dataTable) return;\n",
              "\n",
              "          const docLinkHtml = 'Like what you see? Visit the ' +\n",
              "            '<a target=\"_blank\" href=https://colab.research.google.com/notebooks/data_table.ipynb>data table notebook</a>'\n",
              "            + ' to learn more about interactive tables.';\n",
              "          element.innerHTML = '';\n",
              "          dataTable['output_type'] = 'display_data';\n",
              "          await google.colab.output.renderOutput(dataTable, element);\n",
              "          const docLink = document.createElement('div');\n",
              "          docLink.innerHTML = docLinkHtml;\n",
              "          element.appendChild(docLink);\n",
              "        }\n",
              "      </script>\n",
              "    </div>\n",
              "  </div>\n",
              "  "
            ]
          },
          "metadata": {},
          "execution_count": 8
        }
      ],
      "source": [
        "prices_df.head()"
      ]
    },
    {
      "cell_type": "code",
      "execution_count": 9,
      "metadata": {
        "id": "m8aSqHUnxd2D"
      },
      "outputs": [],
      "source": [
        "prices_df.to_csv('auto.csv')"
      ]
    }
  ],
  "metadata": {
    "kernelspec": {
      "display_name": "Python 3 (ipykernel)",
      "language": "python",
      "name": "python3"
    },
    "language_info": {
      "codemirror_mode": {
        "name": "ipython",
        "version": 3
      },
      "file_extension": ".py",
      "mimetype": "text/x-python",
      "name": "python",
      "nbconvert_exporter": "python",
      "pygments_lexer": "ipython3",
      "version": "3.9.7"
    },
    "colab": {
      "provenance": [],
      "toc_visible": true
    }
  },
  "nbformat": 4,
  "nbformat_minor": 0
}